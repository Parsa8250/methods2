{
 "cells": [
  {
   "cell_type": "code",
   "execution_count": 1,
   "id": "51c78f79-23bb-4977-bd6a-283ab13e6fc7",
   "metadata": {},
   "outputs": [],
   "source": [
    "og = [1 , 2 , 3]"
   ]
  },
  {
   "cell_type": "code",
   "execution_count": 3,
   "id": "24592695-5ca6-4ffd-bb13-0bcff08b113f",
   "metadata": {},
   "outputs": [],
   "source": [
    "ot = [11 , 22 , 33]"
   ]
  },
  {
   "cell_type": "code",
   "execution_count": 4,
   "id": "fa43e140-758b-4d07-a380-69263c1b2d93",
   "metadata": {},
   "outputs": [],
   "source": [
    "og = ot"
   ]
  },
  {
   "cell_type": "code",
   "execution_count": 5,
   "id": "1834caa3-4e79-457f-8f3e-d4dcbdea5edd",
   "metadata": {},
   "outputs": [
    {
     "data": {
      "text/plain": [
       "True"
      ]
     },
     "execution_count": 5,
     "metadata": {},
     "output_type": "execute_result"
    }
   ],
   "source": [
    "og == ot"
   ]
  },
  {
   "cell_type": "code",
   "execution_count": 6,
   "id": "4ae8aa1c-d6a5-4dc2-8e82-a66af8252675",
   "metadata": {},
   "outputs": [
    {
     "data": {
      "text/plain": [
       "[11, 22, 33]"
      ]
     },
     "execution_count": 6,
     "metadata": {},
     "output_type": "execute_result"
    }
   ],
   "source": [
    "og"
   ]
  },
  {
   "cell_type": "code",
   "execution_count": 7,
   "id": "1be70544-29bc-415b-9c00-90145f0b7004",
   "metadata": {},
   "outputs": [
    {
     "data": {
      "text/plain": [
       "[11, 22, 33]"
      ]
     },
     "execution_count": 7,
     "metadata": {},
     "output_type": "execute_result"
    }
   ],
   "source": [
    "og"
   ]
  },
  {
   "cell_type": "code",
   "execution_count": 10,
   "id": "3635add8-a01c-4701-85a3-564f6262ab85",
   "metadata": {},
   "outputs": [
    {
     "data": {
      "text/plain": [
       "True"
      ]
     },
     "execution_count": 10,
     "metadata": {},
     "output_type": "execute_result"
    }
   ],
   "source": [
    "ot is og "
   ]
  },
  {
   "cell_type": "code",
   "execution_count": 13,
   "id": "6bad049f-f5fa-4c16-90ae-9cde7d875006",
   "metadata": {},
   "outputs": [
    {
     "data": {
      "text/plain": [
       "True"
      ]
     },
     "execution_count": 13,
     "metadata": {},
     "output_type": "execute_result"
    }
   ],
   "source": [
    "og is ot"
   ]
  },
  {
   "cell_type": "code",
   "execution_count": 15,
   "id": "c785c05b-e489-4150-8615-d7b61a8f5730",
   "metadata": {},
   "outputs": [],
   "source": [
    "ot.append(input)"
   ]
  },
  {
   "cell_type": "code",
   "execution_count": 16,
   "id": "212e5d7f-ef28-4d79-9508-a416a7f6babf",
   "metadata": {},
   "outputs": [
    {
     "data": {
      "text/plain": [
       "[11,\n",
       " 22,\n",
       " 33,\n",
       " <bound method Kernel.raw_input of <ipykernel.ipkernel.IPythonKernel object at 0x000001E8BA624C20>>]"
      ]
     },
     "execution_count": 16,
     "metadata": {},
     "output_type": "execute_result"
    }
   ],
   "source": [
    "ot"
   ]
  },
  {
   "cell_type": "code",
   "execution_count": 18,
   "id": "5786ccc2-6d58-41c9-afd5-12670c57b18b",
   "metadata": {},
   "outputs": [
    {
     "data": {
      "text/plain": [
       "0"
      ]
     },
     "execution_count": 18,
     "metadata": {},
     "output_type": "execute_result"
    }
   ],
   "source": [
    "ot.count('12')"
   ]
  },
  {
   "cell_type": "code",
   "execution_count": 33,
   "id": "92d99459-9894-4a7b-9dde-7ae79bcaf3f1",
   "metadata": {},
   "outputs": [],
   "source": [
    "ot.insert(4 ,160)"
   ]
  },
  {
   "cell_type": "code",
   "execution_count": 35,
   "id": "2df876ed-79ed-4cfb-9bd5-445c672baf4a",
   "metadata": {},
   "outputs": [
    {
     "data": {
      "text/plain": [
       "[11,\n",
       " 22,\n",
       " 33,\n",
       " <bound method Kernel.raw_input of <ipykernel.ipkernel.IPythonKernel object at 0x000001E8BA624C20>>,\n",
       " 160]"
      ]
     },
     "execution_count": 35,
     "metadata": {},
     "output_type": "execute_result"
    }
   ],
   "source": [
    "ot"
   ]
  },
  {
   "cell_type": "code",
   "execution_count": 37,
   "id": "b6ee5441-a717-409d-ac0f-c3935d4330ba",
   "metadata": {},
   "outputs": [],
   "source": [
    "def my_funtion(x):\n",
    "    return str(x)"
   ]
  },
  {
   "cell_type": "code",
   "execution_count": 39,
   "id": "4812c8bf-7be2-41c9-a7f0-50e1a298bb8f",
   "metadata": {},
   "outputs": [],
   "source": [
    "ot.sort(key=my_funtion)"
   ]
  },
  {
   "cell_type": "code",
   "execution_count": 41,
   "id": "8cb47d85-587f-41c1-97dc-3222b57ff5ba",
   "metadata": {},
   "outputs": [
    {
     "data": {
      "text/plain": [
       "[11,\n",
       " 160,\n",
       " 22,\n",
       " 33,\n",
       " <bound method Kernel.raw_input of <ipykernel.ipkernel.IPythonKernel object at 0x000001E8BA624C20>>]"
      ]
     },
     "execution_count": 41,
     "metadata": {},
     "output_type": "execute_result"
    }
   ],
   "source": [
    "ot"
   ]
  },
  {
   "cell_type": "code",
   "execution_count": 43,
   "id": "e011fadd-0da2-48cb-9d04-8cdd6b1da916",
   "metadata": {},
   "outputs": [],
   "source": [
    "def d(x):\n",
    "    return x%2"
   ]
  },
  {
   "cell_type": "code",
   "execution_count": 45,
   "id": "478ae728-2a7a-402c-aa2e-14d148cb26eb",
   "metadata": {},
   "outputs": [],
   "source": [
    "oc = [1 , 10, 5]"
   ]
  },
  {
   "cell_type": "code",
   "execution_count": 47,
   "id": "875575af-21c9-4747-bf79-845d85b90762",
   "metadata": {},
   "outputs": [],
   "source": [
    "oc.sort(key=d)"
   ]
  },
  {
   "cell_type": "code",
   "execution_count": 49,
   "id": "c1b879ed-4b90-48a4-af92-746f4db7de12",
   "metadata": {},
   "outputs": [
    {
     "data": {
      "text/plain": [
       "[10, 1, 5]"
      ]
     },
     "execution_count": 49,
     "metadata": {},
     "output_type": "execute_result"
    }
   ],
   "source": [
    "oc"
   ]
  },
  {
   "cell_type": "code",
   "execution_count": 51,
   "id": "72dc0878-7132-43b6-a90c-0049f5bab1b0",
   "metadata": {},
   "outputs": [],
   "source": [
    "oc.reverse()"
   ]
  },
  {
   "cell_type": "code",
   "execution_count": 53,
   "id": "c5633a56-c02c-4b5e-881c-d39a379cc978",
   "metadata": {},
   "outputs": [
    {
     "data": {
      "text/plain": [
       "[5, 1, 10]"
      ]
     },
     "execution_count": 53,
     "metadata": {},
     "output_type": "execute_result"
    }
   ],
   "source": [
    "oc"
   ]
  },
  {
   "cell_type": "code",
   "execution_count": 55,
   "id": "54b18fcf-38c9-4134-9bcf-0ba32163a9ae",
   "metadata": {},
   "outputs": [
    {
     "data": {
      "text/plain": [
       "10"
      ]
     },
     "execution_count": 55,
     "metadata": {},
     "output_type": "execute_result"
    }
   ],
   "source": [
    "oc.pop()"
   ]
  },
  {
   "cell_type": "code",
   "execution_count": 57,
   "id": "eb8fd508-ea5b-46d3-978f-93350384f04f",
   "metadata": {},
   "outputs": [
    {
     "data": {
      "text/plain": [
       "[5, 1]"
      ]
     },
     "execution_count": 57,
     "metadata": {},
     "output_type": "execute_result"
    }
   ],
   "source": [
    "oc"
   ]
  },
  {
   "cell_type": "code",
   "execution_count": 71,
   "id": "3f96c26a-1024-4354-a6a9-f8babb09a819",
   "metadata": {},
   "outputs": [],
   "source": [
    "oc.append(87054)"
   ]
  },
  {
   "cell_type": "code",
   "execution_count": 73,
   "id": "13ff1f09-f7cf-4770-9cb6-cc78da54753a",
   "metadata": {},
   "outputs": [
    {
     "data": {
      "text/plain": [
       "[5, 1, 574654, 574654, 574654, 574654, 574654, 8787, 87054]"
      ]
     },
     "execution_count": 73,
     "metadata": {},
     "output_type": "execute_result"
    }
   ],
   "source": [
    "oc.sort()"
   ]
  },
  {
   "cell_type": "code",
   "execution_count": 83,
   "id": "cd42e5e3-9cfe-4f44-bc97-3185a60d61ce",
   "metadata": {},
   "outputs": [
    {
     "data": {
      "text/plain": [
       "1"
      ]
     },
     "execution_count": 83,
     "metadata": {},
     "output_type": "execute_result"
    }
   ],
   "source": [
    "oc.pop(1)"
   ]
  },
  {
   "cell_type": "code",
   "execution_count": 86,
   "id": "26fa13ce-94a8-46a9-b9b4-ebca0c626eff",
   "metadata": {},
   "outputs": [
    {
     "data": {
      "text/plain": [
       "[5, 574654, 574654, 574654, 574654, 574654, 8787, 87054]"
      ]
     },
     "execution_count": 86,
     "metadata": {},
     "output_type": "execute_result"
    }
   ],
   "source": [
    "oc"
   ]
  },
  {
   "cell_type": "code",
   "execution_count": 90,
   "id": "a1329db2-0a76-422b-b85f-c1784441f2cf",
   "metadata": {},
   "outputs": [],
   "source": [
    "oc.remove(8787)"
   ]
  },
  {
   "cell_type": "code",
   "execution_count": 92,
   "id": "e13e609b-9b3e-415f-96d1-fc5775546d9c",
   "metadata": {},
   "outputs": [
    {
     "data": {
      "text/plain": [
       "[5, 574654, 574654, 574654, 574654, 574654, 87054]"
      ]
     },
     "execution_count": 92,
     "metadata": {},
     "output_type": "execute_result"
    }
   ],
   "source": [
    "oc"
   ]
  },
  {
   "cell_type": "code",
   "execution_count": 96,
   "id": "3e2cc00c-e171-43ec-b462-b32249aa45f2",
   "metadata": {},
   "outputs": [],
   "source": [
    "oc.clear()"
   ]
  },
  {
   "cell_type": "code",
   "execution_count": 98,
   "id": "8dbc4f19-a835-45e8-becb-fe0ab546db1a",
   "metadata": {},
   "outputs": [
    {
     "data": {
      "text/plain": [
       "[]"
      ]
     },
     "execution_count": 98,
     "metadata": {},
     "output_type": "execute_result"
    }
   ],
   "source": [
    "oc"
   ]
  },
  {
   "cell_type": "code",
   "execution_count": 100,
   "id": "245ef5ca-ea2f-457b-9912-4bd715e81f2e",
   "metadata": {},
   "outputs": [
    {
     "data": {
      "text/plain": [
       "['__add__',\n",
       " '__class__',\n",
       " '__class_getitem__',\n",
       " '__contains__',\n",
       " '__delattr__',\n",
       " '__delitem__',\n",
       " '__dir__',\n",
       " '__doc__',\n",
       " '__eq__',\n",
       " '__format__',\n",
       " '__ge__',\n",
       " '__getattribute__',\n",
       " '__getitem__',\n",
       " '__getstate__',\n",
       " '__gt__',\n",
       " '__hash__',\n",
       " '__iadd__',\n",
       " '__imul__',\n",
       " '__init__',\n",
       " '__init_subclass__',\n",
       " '__iter__',\n",
       " '__le__',\n",
       " '__len__',\n",
       " '__lt__',\n",
       " '__mul__',\n",
       " '__ne__',\n",
       " '__new__',\n",
       " '__reduce__',\n",
       " '__reduce_ex__',\n",
       " '__repr__',\n",
       " '__reversed__',\n",
       " '__rmul__',\n",
       " '__setattr__',\n",
       " '__setitem__',\n",
       " '__sizeof__',\n",
       " '__str__',\n",
       " '__subclasshook__',\n",
       " 'append',\n",
       " 'clear',\n",
       " 'copy',\n",
       " 'count',\n",
       " 'extend',\n",
       " 'index',\n",
       " 'insert',\n",
       " 'pop',\n",
       " 'remove',\n",
       " 'reverse',\n",
       " 'sort']"
      ]
     },
     "execution_count": 100,
     "metadata": {},
     "output_type": "execute_result"
    }
   ],
   "source": [
    "dir(oc)"
   ]
  },
  {
   "cell_type": "code",
   "execution_count": null,
   "id": "60e31918-9540-488f-9334-6c38eaf003d1",
   "metadata": {},
   "outputs": [],
   "source": []
  }
 ],
 "metadata": {
  "kernelspec": {
   "display_name": "Python [conda env:base] *",
   "language": "python",
   "name": "conda-base-py"
  },
  "language_info": {
   "codemirror_mode": {
    "name": "ipython",
    "version": 3
   },
   "file_extension": ".py",
   "mimetype": "text/x-python",
   "name": "python",
   "nbconvert_exporter": "python",
   "pygments_lexer": "ipython3",
   "version": "3.12.7"
  }
 },
 "nbformat": 4,
 "nbformat_minor": 5
}
